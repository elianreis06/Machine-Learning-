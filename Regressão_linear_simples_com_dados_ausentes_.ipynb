{
  "nbformat": 4,
  "nbformat_minor": 0,
  "metadata": {
    "colab": {
      "provenance": [],
      "collapsed_sections": [],
      "include_colab_link": true
    },
    "kernelspec": {
      "name": "python3",
      "display_name": "Python 3"
    },
    "language_info": {
      "name": "python"
    }
  },
  "cells": [
    {
      "cell_type": "markdown",
      "metadata": {
        "id": "view-in-github",
        "colab_type": "text"
      },
      "source": [
        "<a href=\"https://colab.research.google.com/github/elianreis06/Machine-Learning-/blob/main/Regress%C3%A3o_linear_simples_com_dados_ausentes_.ipynb\" target=\"_parent\"><img src=\"https://colab.research.google.com/assets/colab-badge.svg\" alt=\"Open In Colab\"/></a>"
      ]
    },
    {
      "cell_type": "code",
      "execution_count": 1,
      "metadata": {
        "id": "wjJ63DPuOtxO"
      },
      "outputs": [],
      "source": [
        "# numpy importa funções matemáticas que ajudam a lidar com grandes conjuntos de dados\n",
        "import numpy as np  \n",
        "\n",
        "# manipulação e análise de dados\n",
        "import pandas as pd \n",
        "\n",
        "from sklearn.impute import SimpleImputer # importando módulo para lidar com dados ausentes\n",
        "from sklearn.compose import ColumnTransformer # aplica transformações nas colunas ou features\n",
        "from sklearn.preprocessing import OneHotEncoder #  cria uma coluna binária para cada categoria e retorna uma matriz esparsa\n",
        "from sklearn.preprocessing import LabelEncoder # codificação em rótulos, iniciando no zero\n",
        "from sklearn.model_selection import train_test_split # modulo para separar os dados\n",
        "from sklearn.preprocessing import StandardScaler # padronização dos dados\n",
        "from sklearn.preprocessing import MinMaxScaler # padronização dos dados\n",
        "\n",
        "import matplotlib.pyplot as plt "
      ]
    },
    {
      "cell_type": "code",
      "source": [
        "dados = pd.read_csv('Salario.csv') \n",
        "X = dados.iloc[:, :-1].values\n",
        "y = dados.iloc[:, -1].values\n",
        "\n",
        "print(\"************ Apresentação dos Dados ************\")\n",
        "print(dados)\n",
        "print(type(dados))\n",
        "\n",
        "print(\"\\n************ Apresentação de X ************\")\n",
        "print(X)\n",
        "print(type(X))\n",
        "\n",
        "print(\"\\n************ Apresentação de y ************\")\n",
        "print(y)\n",
        "print(type(y))"
      ],
      "metadata": {
        "colab": {
          "base_uri": "https://localhost:8080/"
        },
        "id": "5cZEfn_dPLKf",
        "outputId": "dab9c1a8-0dec-465b-cbce-a5f154cfb6c9"
      },
      "execution_count": 2,
      "outputs": [
        {
          "output_type": "stream",
          "name": "stdout",
          "text": [
            "************ Apresentação dos Dados ************\n",
            "    Anos   Salario\n",
            "0    1.1   39343.0\n",
            "1    1.3   46205.0\n",
            "2    1.5   37731.0\n",
            "3    NaN   43525.0\n",
            "4    2.2   39891.0\n",
            "5    2.9   56642.0\n",
            "6    3.0       NaN\n",
            "7    3.2   54445.0\n",
            "8    3.2   64445.0\n",
            "9    3.7   57189.0\n",
            "10   3.9   63218.0\n",
            "11   4.0       NaN\n",
            "12   4.0   56957.0\n",
            "13   4.1   57081.0\n",
            "14   4.5   61111.0\n",
            "15   NaN   67938.0\n",
            "16   5.1   66029.0\n",
            "17   5.3   83088.0\n",
            "18   5.9   81363.0\n",
            "19   6.0       NaN\n",
            "20   6.8   91738.0\n",
            "21   7.1   98273.0\n",
            "22   7.9  101302.0\n",
            "23   8.2  113812.0\n",
            "24   NaN  109431.0\n",
            "25   9.0  105582.0\n",
            "26   9.5  116969.0\n",
            "27   9.6       NaN\n",
            "28  10.3  122391.0\n",
            "29  10.5  121872.0\n",
            "<class 'pandas.core.frame.DataFrame'>\n",
            "\n",
            "************ Apresentação de X ************\n",
            "[[ 1.1]\n",
            " [ 1.3]\n",
            " [ 1.5]\n",
            " [ nan]\n",
            " [ 2.2]\n",
            " [ 2.9]\n",
            " [ 3. ]\n",
            " [ 3.2]\n",
            " [ 3.2]\n",
            " [ 3.7]\n",
            " [ 3.9]\n",
            " [ 4. ]\n",
            " [ 4. ]\n",
            " [ 4.1]\n",
            " [ 4.5]\n",
            " [ nan]\n",
            " [ 5.1]\n",
            " [ 5.3]\n",
            " [ 5.9]\n",
            " [ 6. ]\n",
            " [ 6.8]\n",
            " [ 7.1]\n",
            " [ 7.9]\n",
            " [ 8.2]\n",
            " [ nan]\n",
            " [ 9. ]\n",
            " [ 9.5]\n",
            " [ 9.6]\n",
            " [10.3]\n",
            " [10.5]]\n",
            "<class 'numpy.ndarray'>\n",
            "\n",
            "************ Apresentação de y ************\n",
            "[ 39343.  46205.  37731.  43525.  39891.  56642.     nan  54445.  64445.\n",
            "  57189.  63218.     nan  56957.  57081.  61111.  67938.  66029.  83088.\n",
            "  81363.     nan  91738.  98273. 101302. 113812. 109431. 105582. 116969.\n",
            "     nan 122391. 121872.]\n",
            "<class 'numpy.ndarray'>\n"
          ]
        }
      ]
    },
    {
      "cell_type": "markdown",
      "source": [
        "Dados Ausentes"
      ],
      "metadata": {
        "id": "4VqMlJDqQvmc"
      }
    },
    {
      "cell_type": "code",
      "source": [
        "estrategia = 'mean'\n",
        "valor = None\n",
        "\n",
        "imputer = SimpleImputer(missing_values=np.nan, strategy=estrategia,fill_value=valor) # median , most_frequent , constant + fill_value\n",
        "X = imputer.fit_transform(X)\n",
        "\n",
        "print(\"\\n************ Novos Dados de X ************\")\n",
        "print(X)\n",
        "\n"
      ],
      "metadata": {
        "colab": {
          "base_uri": "https://localhost:8080/"
        },
        "id": "EYsO56bnQwpW",
        "outputId": "15c86de8-a47e-4bb8-e963-87d8fdb194ea"
      },
      "execution_count": 3,
      "outputs": [
        {
          "output_type": "stream",
          "name": "stdout",
          "text": [
            "\n",
            "************ Novos Dados de X ************\n",
            "[[ 1.1       ]\n",
            " [ 1.3       ]\n",
            " [ 1.5       ]\n",
            " [ 5.32592593]\n",
            " [ 2.2       ]\n",
            " [ 2.9       ]\n",
            " [ 3.        ]\n",
            " [ 3.2       ]\n",
            " [ 3.2       ]\n",
            " [ 3.7       ]\n",
            " [ 3.9       ]\n",
            " [ 4.        ]\n",
            " [ 4.        ]\n",
            " [ 4.1       ]\n",
            " [ 4.5       ]\n",
            " [ 5.32592593]\n",
            " [ 5.1       ]\n",
            " [ 5.3       ]\n",
            " [ 5.9       ]\n",
            " [ 6.        ]\n",
            " [ 6.8       ]\n",
            " [ 7.1       ]\n",
            " [ 7.9       ]\n",
            " [ 8.2       ]\n",
            " [ 5.32592593]\n",
            " [ 9.        ]\n",
            " [ 9.5       ]\n",
            " [ 9.6       ]\n",
            " [10.3       ]\n",
            " [10.5       ]]\n"
          ]
        }
      ]
    },
    {
      "cell_type": "code",
      "source": [
        "y2 = y.reshape(-1,1)\n",
        "imputer2 = SimpleImputer(missing_values=np.nan, strategy=estrategia,fill_value=valor) # median , most_frequent , constant + fill_value\n",
        "y = imputer.fit_transform(y2)\n",
        "\n",
        "print(\"\\n************ Novos Dados de Y ************\")\n",
        "print(y)"
      ],
      "metadata": {
        "colab": {
          "base_uri": "https://localhost:8080/"
        },
        "id": "vIAk1yb7WPFn",
        "outputId": "367a47bd-6013-4520-e299-66f6a2ee597f"
      },
      "execution_count": 4,
      "outputs": [
        {
          "output_type": "stream",
          "name": "stdout",
          "text": [
            "\n",
            "************ Novos Dados de Y ************\n",
            "[[ 39343.        ]\n",
            " [ 46205.        ]\n",
            " [ 37731.        ]\n",
            " [ 43525.        ]\n",
            " [ 39891.        ]\n",
            " [ 56642.        ]\n",
            " [ 75291.19230769]\n",
            " [ 54445.        ]\n",
            " [ 64445.        ]\n",
            " [ 57189.        ]\n",
            " [ 63218.        ]\n",
            " [ 75291.19230769]\n",
            " [ 56957.        ]\n",
            " [ 57081.        ]\n",
            " [ 61111.        ]\n",
            " [ 67938.        ]\n",
            " [ 66029.        ]\n",
            " [ 83088.        ]\n",
            " [ 81363.        ]\n",
            " [ 75291.19230769]\n",
            " [ 91738.        ]\n",
            " [ 98273.        ]\n",
            " [101302.        ]\n",
            " [113812.        ]\n",
            " [109431.        ]\n",
            " [105582.        ]\n",
            " [116969.        ]\n",
            " [ 75291.19230769]\n",
            " [122391.        ]\n",
            " [121872.        ]]\n"
          ]
        }
      ]
    },
    {
      "cell_type": "code",
      "source": [
        "from sklearn.model_selection import train_test_split\n",
        "X_treino, X_teste, y_treino, y_teste = train_test_split(X, y, test_size = 0.3, random_state = 0)"
      ],
      "metadata": {
        "id": "hIOiTkDhay-_"
      },
      "execution_count": 5,
      "outputs": []
    },
    {
      "cell_type": "code",
      "source": [
        "from sklearn.linear_model import LinearRegression\n",
        "regressor = LinearRegression()\n",
        "regressor.fit(X_treino, y_treino)  # gerando o modelo com base nos dados de treinamento\n",
        "\n",
        "print(f'y = {regressor.intercept_} + {float(regressor.coef_)}x')"
      ],
      "metadata": {
        "colab": {
          "base_uri": "https://localhost:8080/"
        },
        "id": "Rh6pZH5fPz43",
        "outputId": "0fb2889f-0a6e-4fa8-e9d8-dc10f63248e3"
      },
      "execution_count": 6,
      "outputs": [
        {
          "output_type": "stream",
          "name": "stdout",
          "text": [
            "y = [27550.2338558] + 8843.982079049789x\n"
          ]
        }
      ]
    },
    {
      "cell_type": "code",
      "source": [
        "plt.scatter(X_treino,y_treino, color='red')  # exibir as amostras dos dados\n",
        "plt.plot(X_treino, regressor.predict(X_treino), color='blue') # mostrar a reta que representa o modelo\n",
        "plt.title('Resultados de Treinamento')\n",
        "plt.xlabel('Anos de Experiência')\n",
        "plt.ylabel('Salário')\n",
        "plt.show()"
      ],
      "metadata": {
        "colab": {
          "base_uri": "https://localhost:8080/",
          "height": 296
        },
        "id": "YVX_lHAQP2zN",
        "outputId": "58e6526a-1b1b-461f-c0ac-0133b8343f57"
      },
      "execution_count": 7,
      "outputs": [
        {
          "output_type": "display_data",
          "data": {
            "text/plain": [
              "<Figure size 432x288 with 1 Axes>"
            ],
            "image/png": "[encoded data removed]"
          },
          "metadata": {
            "needs_background": "light"
          }
        }
      ]
    },
    {
      "cell_type": "code",
      "source": [
        "y_pred = regressor.predict(X_teste)"
      ],
      "metadata": {
        "id": "nRZLviG2P66n"
      },
      "execution_count": 9,
      "outputs": []
    },
    {
      "cell_type": "code",
      "source": [
        "plt.scatter(X_teste,y_teste, color='red')  # exibir as amostras dos dados\n",
        "plt.plot(X_treino, regressor.predict(X_treino), color='blue') # manter a mesma reta do modelo treinado\n",
        "plt.title('Resultados de Teste')\n",
        "plt.xlabel('Anos de Experiência')\n",
        "plt.ylabel('Salário')\n",
        "plt.show()"
      ],
      "metadata": {
        "colab": {
          "base_uri": "https://localhost:8080/",
          "height": 296
        },
        "id": "4yFoot9XP-KB",
        "outputId": "7a4b35d3-6b49-49d9-bf16-a0b2126274d4"
      },
      "execution_count": 10,
      "outputs": [
        {
          "output_type": "display_data",
          "data": {
            "text/plain": [
              "<Figure size 432x288 with 1 Axes>"
            ],
            "image/png": "[encoded data removed]"
          },
          "metadata": {
            "needs_background": "light"
          }
        }
      ]
    },
    {
      "cell_type": "code",
      "source": [
        "print(regressor.predict([[100]]))"
      ],
      "metadata": {
        "colab": {
          "base_uri": "https://localhost:8080/"
        },
        "id": "GobCP6PgQDTC",
        "outputId": "d978c155-c8de-42f9-eff7-97cc1737c532"
      },
      "execution_count": 11,
      "outputs": [
        {
          "output_type": "stream",
          "name": "stdout",
          "text": [
            "[[911948.44176078]]\n"
          ]
        }
      ]
    }
  ]
}